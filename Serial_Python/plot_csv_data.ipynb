{
 "cells": [
  {
   "cell_type": "code",
   "execution_count": 9,
   "source": [
    "import pandas as pd\r\n",
    "import matplotlib.pyplot as plt"
   ],
   "outputs": [],
   "metadata": {}
  },
  {
   "cell_type": "code",
   "execution_count": 13,
   "source": [
    "df = pd.read_csv('data-2021-10-28-1701.csv')\r\n",
    "counts_to_volts = 2.4858e-4\r\n",
    "df[df.select_dtypes(include=['number']).columns] *= counts_to_volts\r\n",
    "df.head()"
   ],
   "outputs": [
    {
     "output_type": "execute_result",
     "data": {
      "text/html": [
       "<div>\n",
       "<style scoped>\n",
       "    .dataframe tbody tr th:only-of-type {\n",
       "        vertical-align: middle;\n",
       "    }\n",
       "\n",
       "    .dataframe tbody tr th {\n",
       "        vertical-align: top;\n",
       "    }\n",
       "\n",
       "    .dataframe thead th {\n",
       "        text-align: right;\n",
       "    }\n",
       "</style>\n",
       "<table border=\"1\" class=\"dataframe\">\n",
       "  <thead>\n",
       "    <tr style=\"text-align: right;\">\n",
       "      <th></th>\n",
       "      <th>chn1</th>\n",
       "      <th>chn2</th>\n",
       "      <th>chn3</th>\n",
       "      <th>chn4</th>\n",
       "      <th>chn5</th>\n",
       "      <th>chn6</th>\n",
       "      <th>chn7</th>\n",
       "      <th>chn8</th>\n",
       "    </tr>\n",
       "  </thead>\n",
       "  <tbody>\n",
       "    <tr>\n",
       "      <th>0</th>\n",
       "      <td>0</td>\n",
       "      <td>0</td>\n",
       "      <td>0</td>\n",
       "      <td>16416</td>\n",
       "      <td>32636</td>\n",
       "      <td>32635</td>\n",
       "      <td>32636</td>\n",
       "      <td>32635</td>\n",
       "    </tr>\n",
       "    <tr>\n",
       "      <th>1</th>\n",
       "      <td>0</td>\n",
       "      <td>0</td>\n",
       "      <td>0</td>\n",
       "      <td>16416</td>\n",
       "      <td>32636</td>\n",
       "      <td>32635</td>\n",
       "      <td>32636</td>\n",
       "      <td>32635</td>\n",
       "    </tr>\n",
       "    <tr>\n",
       "      <th>2</th>\n",
       "      <td>0</td>\n",
       "      <td>0</td>\n",
       "      <td>0</td>\n",
       "      <td>16416</td>\n",
       "      <td>32636</td>\n",
       "      <td>32635</td>\n",
       "      <td>32636</td>\n",
       "      <td>32635</td>\n",
       "    </tr>\n",
       "    <tr>\n",
       "      <th>3</th>\n",
       "      <td>0</td>\n",
       "      <td>0</td>\n",
       "      <td>0</td>\n",
       "      <td>16416</td>\n",
       "      <td>32636</td>\n",
       "      <td>32635</td>\n",
       "      <td>32636</td>\n",
       "      <td>32635</td>\n",
       "    </tr>\n",
       "    <tr>\n",
       "      <th>4</th>\n",
       "      <td>0</td>\n",
       "      <td>0</td>\n",
       "      <td>0</td>\n",
       "      <td>16416</td>\n",
       "      <td>32636</td>\n",
       "      <td>32635</td>\n",
       "      <td>32636</td>\n",
       "      <td>32635</td>\n",
       "    </tr>\n",
       "  </tbody>\n",
       "</table>\n",
       "</div>"
      ],
      "text/plain": [
       "   chn1  chn2  chn3   chn4   chn5   chn6   chn7   chn8\n",
       "0     0     0     0  16416  32636  32635  32636  32635\n",
       "1     0     0     0  16416  32636  32635  32636  32635\n",
       "2     0     0     0  16416  32636  32635  32636  32635\n",
       "3     0     0     0  16416  32636  32635  32636  32635\n",
       "4     0     0     0  16416  32636  32635  32636  32635"
      ]
     },
     "metadata": {},
     "execution_count": 13
    }
   ],
   "metadata": {}
  },
  {
   "cell_type": "code",
   "execution_count": 12,
   "source": [
    "df.plot(y=['chn1','chn2'])\r\n",
    "# Plot\r\n",
    "plt.grid(True)\r\n",
    "plt.show()"
   ],
   "outputs": [
    {
     "output_type": "display_data",
     "data": {
      "image/png": "[encoded data removed]",
      "text/plain": [
       "<Figure size 432x288 with 1 Axes>"
      ]
     },
     "metadata": {
      "needs_background": "light"
     }
    }
   ],
   "metadata": {}
  }
 ],
 "metadata": {
  "orig_nbformat": 4,
  "language_info": {
   "name": "python",
   "version": "3.8.10",
   "mimetype": "text/x-python",
   "codemirror_mode": {
    "name": "ipython",
    "version": 3
   },
   "pygments_lexer": "ipython3",
   "nbconvert_exporter": "python",
   "file_extension": ".py"
  },
  "kernelspec": {
   "name": "python3",
   "display_name": "Python 3.8.10 64-bit (windows store)"
  },
  "interpreter": {
   "hash": "e3cdb721a47ccfbfb85fd5241ceb93337c2dd02a7f5cef17f9d0c42c9e89d30f"
  }
 },
 "nbformat": 4,
 "nbformat_minor": 2
}